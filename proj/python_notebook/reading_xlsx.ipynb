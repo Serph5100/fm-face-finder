{
 "cells": [
  {
   "cell_type": "markdown",
   "id": "e9c737e7",
   "metadata": {},
   "source": [
    "## ==== **Reading Excel Files with Pandas** ===="
   ]
  },
  {
   "cell_type": "markdown",
   "id": "dff6d8aa",
   "metadata": {},
   "source": [
    "#### ==== **Path Configuration** ===="
   ]
  },
  {
   "cell_type": "code",
   "execution_count": 39,
   "id": "531ffb3c",
   "metadata": {},
   "outputs": [],
   "source": [
    "import sys\n",
    "import os\n",
    "\n",
    "sys.path.append('/workspaces/fm-face-finder')"
   ]
  },
  {
   "cell_type": "markdown",
   "id": "cff4b717",
   "metadata": {},
   "source": [
    "#### == **Import Libraries** =="
   ]
  },
  {
   "cell_type": "code",
   "execution_count": 34,
   "id": "74ac5088",
   "metadata": {},
   "outputs": [],
   "source": [
    "import pandas as pd"
   ]
  },
  {
   "cell_type": "markdown",
   "id": "811e529d",
   "metadata": {},
   "source": [
    "#### == **Configure Excel Path** =="
   ]
  },
  {
   "cell_type": "code",
   "execution_count": 36,
   "id": "6fe20362",
   "metadata": {},
   "outputs": [],
   "source": [
    "file_name = \"serie_a_1994.xlsx\""
   ]
  },
  {
   "cell_type": "code",
   "execution_count": 43,
   "id": "0448b06a",
   "metadata": {},
   "outputs": [],
   "source": [
    "excel_file_path = os.path.join('..', '..', 'input', file_name)"
   ]
  },
  {
   "cell_type": "code",
   "execution_count": 44,
   "id": "9f010dea",
   "metadata": {},
   "outputs": [
    {
     "data": {
      "text/plain": [
       "'../../input/serie_a_1994.xlsx'"
      ]
     },
     "execution_count": 44,
     "metadata": {},
     "output_type": "execute_result"
    }
   ],
   "source": [
    "excel_file_path"
   ]
  },
  {
   "cell_type": "code",
   "execution_count": 45,
   "id": "85d68d2d",
   "metadata": {},
   "outputs": [
    {
     "name": "stdout",
     "output_type": "stream",
     "text": [
      "/workspaces/fm-face-finder/proj/python_notebook\n"
     ]
    }
   ],
   "source": [
    "print(os.getcwd())"
   ]
  },
  {
   "cell_type": "markdown",
   "id": "0ff19795",
   "metadata": {},
   "source": [
    "#### == **Read Excel File** =="
   ]
  },
  {
   "cell_type": "code",
   "execution_count": 48,
   "id": "cad2d669",
   "metadata": {},
   "outputs": [],
   "source": [
    "data_frame = pd.read_excel(excel_file_path)"
   ]
  },
  {
   "cell_type": "code",
   "execution_count": 49,
   "id": "129b0d9d",
   "metadata": {},
   "outputs": [
    {
     "data": {
      "text/html": [
       "<div>\n",
       "<style scoped>\n",
       "    .dataframe tbody tr th:only-of-type {\n",
       "        vertical-align: middle;\n",
       "    }\n",
       "\n",
       "    .dataframe tbody tr th {\n",
       "        vertical-align: top;\n",
       "    }\n",
       "\n",
       "    .dataframe thead th {\n",
       "        text-align: right;\n",
       "    }\n",
       "</style>\n",
       "<table border=\"1\" class=\"dataframe\">\n",
       "  <thead>\n",
       "    <tr style=\"text-align: right;\">\n",
       "      <th></th>\n",
       "      <th>Name</th>\n",
       "      <th>Club</th>\n",
       "      <th>Nat</th>\n",
       "      <th>UID</th>\n",
       "    </tr>\n",
       "  </thead>\n",
       "  <tbody>\n",
       "    <tr>\n",
       "      <th>0</th>\n",
       "      <td>Roberto Baggio</td>\n",
       "      <td>Juventus</td>\n",
       "      <td>ITA</td>\n",
       "      <td>2002042329</td>\n",
       "    </tr>\n",
       "    <tr>\n",
       "      <th>1</th>\n",
       "      <td>Marco van Basten</td>\n",
       "      <td>AC Milan</td>\n",
       "      <td>NED</td>\n",
       "      <td>2002042203</td>\n",
       "    </tr>\n",
       "    <tr>\n",
       "      <th>2</th>\n",
       "      <td>Jürgen Kohler</td>\n",
       "      <td>Juventus</td>\n",
       "      <td>GER</td>\n",
       "      <td>2002042856</td>\n",
       "    </tr>\n",
       "    <tr>\n",
       "      <th>3</th>\n",
       "      <td>Ruud Gullit</td>\n",
       "      <td>AC Milan</td>\n",
       "      <td>NED</td>\n",
       "      <td>2002042691</td>\n",
       "    </tr>\n",
       "    <tr>\n",
       "      <th>4</th>\n",
       "      <td>Gianluca Vialli</td>\n",
       "      <td>Juventus</td>\n",
       "      <td>ITA</td>\n",
       "      <td>2002042326</td>\n",
       "    </tr>\n",
       "    <tr>\n",
       "      <th>...</th>\n",
       "      <td>...</td>\n",
       "      <td>...</td>\n",
       "      <td>...</td>\n",
       "      <td>...</td>\n",
       "    </tr>\n",
       "    <tr>\n",
       "      <th>497</th>\n",
       "      <td>Giovanni Cervone</td>\n",
       "      <td>AS Roma</td>\n",
       "      <td>ITA</td>\n",
       "      <td>2002042763</td>\n",
       "    </tr>\n",
       "    <tr>\n",
       "      <th>498</th>\n",
       "      <td>Moreno Mannini</td>\n",
       "      <td>UC Sampdoria</td>\n",
       "      <td>ITA</td>\n",
       "      <td>2002042372</td>\n",
       "    </tr>\n",
       "    <tr>\n",
       "      <th>499</th>\n",
       "      <td>Fausto Pari</td>\n",
       "      <td>Napoli</td>\n",
       "      <td>ITA</td>\n",
       "      <td>2002042376</td>\n",
       "    </tr>\n",
       "    <tr>\n",
       "      <th>500</th>\n",
       "      <td>Stefano Bonometti</td>\n",
       "      <td>Brescia</td>\n",
       "      <td>ITA</td>\n",
       "      <td>2002042778</td>\n",
       "    </tr>\n",
       "    <tr>\n",
       "      <th>501</th>\n",
       "      <td>Franco Baresi</td>\n",
       "      <td>AC Milan</td>\n",
       "      <td>ITA</td>\n",
       "      <td>2002042703</td>\n",
       "    </tr>\n",
       "  </tbody>\n",
       "</table>\n",
       "<p>502 rows × 4 columns</p>\n",
       "</div>"
      ],
      "text/plain": [
       "                  Name          Club  Nat         UID\n",
       "0       Roberto Baggio      Juventus  ITA  2002042329\n",
       "1     Marco van Basten      AC Milan  NED  2002042203\n",
       "2        Jürgen Kohler      Juventus  GER  2002042856\n",
       "3          Ruud Gullit      AC Milan  NED  2002042691\n",
       "4      Gianluca Vialli      Juventus  ITA  2002042326\n",
       "..                 ...           ...  ...         ...\n",
       "497   Giovanni Cervone       AS Roma  ITA  2002042763\n",
       "498     Moreno Mannini  UC Sampdoria  ITA  2002042372\n",
       "499        Fausto Pari        Napoli  ITA  2002042376\n",
       "500  Stefano Bonometti       Brescia  ITA  2002042778\n",
       "501      Franco Baresi      AC Milan  ITA  2002042703\n",
       "\n",
       "[502 rows x 4 columns]"
      ]
     },
     "execution_count": 49,
     "metadata": {},
     "output_type": "execute_result"
    }
   ],
   "source": [
    "data_frame"
   ]
  },
  {
   "cell_type": "code",
   "execution_count": 50,
   "id": "f4419568",
   "metadata": {},
   "outputs": [
    {
     "name": "stdout",
     "output_type": "stream",
     "text": [
      "Name    Roberto Baggio\n",
      "Club          Juventus\n",
      "Nat                ITA\n",
      "UID         2002042329\n",
      "Name: 0, dtype: object\n"
     ]
    }
   ],
   "source": [
    "print(data_frame.iloc[0])"
   ]
  },
  {
   "cell_type": "code",
   "execution_count": 51,
   "id": "e7f6b705",
   "metadata": {},
   "outputs": [
    {
     "name": "stdout",
     "output_type": "stream",
     "text": [
      "Number of rows: 502\n"
     ]
    }
   ],
   "source": [
    "print(f\"Number of rows: {data_frame.shape[0]}\")"
   ]
  }
 ],
 "metadata": {
  "kernelspec": {
   "display_name": "Python 3",
   "language": "python",
   "name": "python3"
  },
  "language_info": {
   "codemirror_mode": {
    "name": "ipython",
    "version": 3
   },
   "file_extension": ".py",
   "mimetype": "text/x-python",
   "name": "python",
   "nbconvert_exporter": "python",
   "pygments_lexer": "ipython3",
   "version": "3.10.18"
  }
 },
 "nbformat": 4,
 "nbformat_minor": 5
}
