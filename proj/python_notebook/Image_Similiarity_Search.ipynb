{
 "cells": [
  {
   "cell_type": "markdown",
   "id": "84defd90-d8a3-4376-b63f-a133781bac55",
   "metadata": {},
   "source": [
    "### === **Find Familiar Image with Deep Image Search** ==="
   ]
  },
  {
   "cell_type": "markdown",
   "id": "e8a43cfe",
   "metadata": {},
   "source": [
    "Package used :\n",
    "- Deep Image Search (CPU version)"
   ]
  },
  {
   "cell_type": "code",
   "execution_count": 1,
   "id": "d6bd8090",
   "metadata": {},
   "outputs": [],
   "source": [
    "from DeepImageSearch import Load_Data, Search_Setup\n",
    "from config import FINAL_IMAGES_PATH, BASE_IMAGE_PATH, CROPPED_IMAGES_PATH\n",
    "import os"
   ]
  },
  {
   "cell_type": "code",
   "execution_count": 2,
   "id": "779daf2d",
   "metadata": {},
   "outputs": [
    {
     "name": "stdout",
     "output_type": "stream",
     "text": [
      "1.26.4\n"
     ]
    }
   ],
   "source": [
    "import numpy\n",
    "print(numpy.__version__)"
   ]
  },
  {
   "cell_type": "code",
   "execution_count": 3,
   "id": "a8bdf702",
   "metadata": {},
   "outputs": [],
   "source": [
    "base_image = Load_Data().from_folder([BASE_IMAGE_PATH])"
   ]
  },
  {
   "cell_type": "code",
   "execution_count": 4,
   "id": "039033d7",
   "metadata": {},
   "outputs": [
    {
     "data": {
      "text/plain": [
       "['/workspaces/fm-face-finder/input/base_image/base_image.jpg']"
      ]
     },
     "execution_count": 4,
     "metadata": {},
     "output_type": "execute_result"
    }
   ],
   "source": [
    "base_image"
   ]
  },
  {
   "cell_type": "code",
   "execution_count": 5,
   "id": "7e16ca72",
   "metadata": {},
   "outputs": [],
   "source": [
    "search_location = os.path.join(CROPPED_IMAGES_PATH, str(2002042765))"
   ]
  },
  {
   "cell_type": "code",
   "execution_count": 6,
   "id": "8a5737ea",
   "metadata": {},
   "outputs": [],
   "source": [
    "search_image_list = Load_Data().from_folder([search_location])"
   ]
  },
  {
   "cell_type": "code",
   "execution_count": 7,
   "id": "8018f908",
   "metadata": {},
   "outputs": [
    {
     "data": {
      "text/plain": [
       "['/workspaces/fm-face-finder/output/cropped/2002042765/cropped_3.jpg',\n",
       " '/workspaces/fm-face-finder/output/cropped/2002042765/cropped_0.jpg',\n",
       " '/workspaces/fm-face-finder/output/cropped/2002042765/cropped_4.jpg',\n",
       " '/workspaces/fm-face-finder/output/cropped/2002042765/cropped_2.jpg']"
      ]
     },
     "execution_count": 7,
     "metadata": {},
     "output_type": "execute_result"
    }
   ],
   "source": [
    "search_image_list"
   ]
  },
  {
   "cell_type": "code",
   "execution_count": 8,
   "id": "05baea97",
   "metadata": {},
   "outputs": [
    {
     "name": "stdout",
     "output_type": "stream",
     "text": [
      "\u001b[91m Please Wait Model Is Loading or Downloading From Server!\n",
      "\u001b[92m Model Loaded Successfully: vgg19\n"
     ]
    }
   ],
   "source": [
    "st = Search_Setup(image_list=base_image, model_name='vgg19', pretrained=True, image_count=5)"
   ]
  },
  {
   "cell_type": "code",
   "execution_count": 9,
   "id": "c564b21e",
   "metadata": {},
   "outputs": [],
   "source": [
    "st.image_list = search_image_list"
   ]
  },
  {
   "cell_type": "code",
   "execution_count": 10,
   "id": "69c0151f",
   "metadata": {},
   "outputs": [
    {
     "name": "stderr",
     "output_type": "stream",
     "text": [
      "100%|██████████| 4/4 [00:01<00:00,  2.48it/s]"
     ]
    },
    {
     "name": "stdout",
     "output_type": "stream",
     "text": [
      "\u001b[94m Image Meta Information Saved: [metadata-files/vgg19/image_data_features.pkl]\n",
      "\u001b[94m Saved The Indexed File:[metadata-files/vgg19/image_features_vectors.idx]\n"
     ]
    },
    {
     "name": "stderr",
     "output_type": "stream",
     "text": [
      "\n"
     ]
    }
   ],
   "source": [
    "st.run_index()"
   ]
  },
  {
   "cell_type": "code",
   "execution_count": 11,
   "id": "f9e6a7aa",
   "metadata": {},
   "outputs": [
    {
     "data": {
      "text/plain": [
       "{0: '/workspaces/fm-face-finder/output/cropped/2002042765/cropped_3.jpg'}"
      ]
     },
     "execution_count": 11,
     "metadata": {},
     "output_type": "execute_result"
    }
   ],
   "source": [
    "# Plot similar images\n",
    "st.get_similar_images(image_path=base_image[0], number_of_images=1)"
   ]
  }
 ],
 "metadata": {
  "kernelspec": {
   "display_name": "Python 3",
   "language": "python",
   "name": "python3"
  },
  "language_info": {
   "codemirror_mode": {
    "name": "ipython",
    "version": 3
   },
   "file_extension": ".py",
   "mimetype": "text/x-python",
   "name": "python",
   "nbconvert_exporter": "python",
   "pygments_lexer": "ipython3",
   "version": "3.10.18"
  }
 },
 "nbformat": 4,
 "nbformat_minor": 5
}
