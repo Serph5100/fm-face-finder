{
 "cells": [
  {
   "cell_type": "markdown",
   "id": "d14fb7ce",
   "metadata": {},
   "source": [
    "### === **Extract Image with Bing Image Downloader** ==="
   ]
  },
  {
   "cell_type": "markdown",
   "id": "623dbd06",
   "metadata": {},
   "source": [
    "Package Used :\n",
    "- bing image downloader (pip install bing-image-downloader)\n"
   ]
  },
  {
   "cell_type": "code",
   "execution_count": 1,
   "id": "207ba8b6",
   "metadata": {},
   "outputs": [],
   "source": [
    "from bing_image_downloader import downloader"
   ]
  },
  {
   "cell_type": "markdown",
   "id": "3bcae8a7",
   "metadata": {},
   "source": [
    "Testing on image quality."
   ]
  },
  {
   "cell_type": "code",
   "execution_count": null,
   "id": "ca96e572",
   "metadata": {},
   "outputs": [
    {
     "name": "stdout",
     "output_type": "stream",
     "text": [
      "[%] Downloading Images to /workspaces/fm-face-finder/dataset/cat\n",
      "\n",
      "\n",
      "[!!]Indexing page: 1\n",
      "\n",
      "[%] Indexed 90 Images on Page 1.\n",
      "\n",
      "===============================================\n",
      "\n",
      "[%] Downloading Image #1 from https://www.publicdomainpictures.net/pictures/180000/velka/cat-1464103447LmK.jpg\n",
      "[%] File Downloaded !\n",
      "\n",
      "[%] Downloading Image #2 from https://c.pxhere.com/photos/a1/ec/cat_red_animal_pet_domestic_fur_feline_young-1403190.jpg!d\n",
      "[%] File Downloaded !\n",
      "\n",
      "[%] Downloading Image #3 from https://www.publicdomainpictures.net/pictures/20000/velka/meowing-cat-871296752495ETj.jpg\n",
      "[Error]Invalid image, not saving https://www.publicdomainpictures.net/pictures/20000/velka/meowing-cat-871296752495ETj.jpg\n",
      "\n",
      "[!] Issue getting: https://www.publicdomainpictures.net/pictures/20000/velka/meowing-cat-871296752495ETj.jpg\n",
      "[!] Error:: Invalid image, not saving https://www.publicdomainpictures.net/pictures/20000/velka/meowing-cat-871296752495ETj.jpg\n",
      "\n",
      "[%] Downloading Image #3 from http://www.publicdomainpictures.net/pictures/50000/velka/cat-1373446292aWW.jpg\n",
      "[%] File Downloaded !\n",
      "\n",
      "[%] Downloading Image #4 from https://www.publicdomainpictures.net/pictures/40000/velka/cat-13682073885oP.jpg\n",
      "[Error]Invalid image, not saving https://www.publicdomainpictures.net/pictures/40000/velka/cat-13682073885oP.jpg\n",
      "\n",
      "[!] Issue getting: https://www.publicdomainpictures.net/pictures/40000/velka/cat-13682073885oP.jpg\n",
      "[!] Error:: Invalid image, not saving https://www.publicdomainpictures.net/pictures/40000/velka/cat-13682073885oP.jpg\n",
      "\n",
      "[%] Downloading Image #4 from http://publicdomainpictures.net/pictures/50000/velka/cat-13710476729kg.jpg\n",
      "[%] File Downloaded !\n",
      "\n",
      "[%] Downloading Image #5 from http://www.publicdomainpictures.net/pictures/20000/velka/cat-profile.jpg\n",
      "[Error]Invalid image, not saving http://www.publicdomainpictures.net/pictures/20000/velka/cat-profile.jpg\n",
      "\n",
      "[!] Issue getting: http://www.publicdomainpictures.net/pictures/20000/velka/cat-profile.jpg\n",
      "[!] Error:: Invalid image, not saving http://www.publicdomainpictures.net/pictures/20000/velka/cat-profile.jpg\n",
      "\n",
      "[%] Downloading Image #5 from http://www.publicdomainpictures.net/pictures/10000/velka/1-1276781631XYvY.jpg\n",
      "[Error]Invalid image, not saving http://www.publicdomainpictures.net/pictures/10000/velka/1-1276781631XYvY.jpg\n",
      "\n",
      "[!] Issue getting: http://www.publicdomainpictures.net/pictures/10000/velka/1-1276781631XYvY.jpg\n",
      "[!] Error:: Invalid image, not saving http://www.publicdomainpictures.net/pictures/10000/velka/1-1276781631XYvY.jpg\n",
      "\n",
      "[%] Downloading Image #5 from http://www.publicdomainpictures.net/pictures/200000/velka/maine-coon-cat-1478571789Cyl.jpg\n",
      "[%] File Downloaded !\n",
      "\n",
      "\n",
      "\n",
      "[%] Done. Downloaded 5 images.\n"
     ]
    }
   ],
   "source": [
    "downloader.download(\"Adriano Bonaiuti 1994 padova\", \n",
    "                    limit=5, \n",
    "                    output_dir=\"dataset\", \n",
    "                    adult_filter_off=False,\n",
    "                    force_replace=False,\n",
    "                    timeout=60\n",
    "                    )"
   ]
  },
  {
   "cell_type": "markdown",
   "id": "67b70019",
   "metadata": {},
   "source": []
  }
 ],
 "metadata": {
  "kernelspec": {
   "display_name": "Python 3 (ipykernel)",
   "language": "python",
   "name": "python3"
  },
  "language_info": {
   "codemirror_mode": {
    "name": "ipython",
    "version": 3
   },
   "file_extension": ".py",
   "mimetype": "text/x-python",
   "name": "python",
   "nbconvert_exporter": "python",
   "pygments_lexer": "ipython3",
   "version": "3.10.18"
  }
 },
 "nbformat": 4,
 "nbformat_minor": 5
}
