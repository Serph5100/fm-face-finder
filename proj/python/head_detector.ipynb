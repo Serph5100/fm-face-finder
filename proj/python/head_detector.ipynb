{
 "cells": [
  {
   "cell_type": "code",
   "execution_count": null,
   "id": "62796de0",
   "metadata": {},
   "outputs": [],
   "source": [
    "#### ==== **Head Detection for Cropping** ===="
   ]
  },
  {
   "cell_type": "markdown",
   "id": "93f07630",
   "metadata": {},
   "source": [
    "Check Numpy Version for compatibility"
   ]
  },
  {
   "cell_type": "code",
   "execution_count": 4,
   "id": "bf9962c1",
   "metadata": {},
   "outputs": [
    {
     "name": "stdout",
     "output_type": "stream",
     "text": [
      "1.26.4\n"
     ]
    }
   ],
   "source": [
    "import numpy as np\n",
    "print(np.__version__)\n"
   ]
  },
  {
   "cell_type": "code",
   "execution_count": 5,
   "id": "42b27f28",
   "metadata": {},
   "outputs": [],
   "source": [
    "np.bool = np.bool_  # Fix for older code using np.bool\n",
    "np.int = np.int_    # Fix for older code using np.int\n",
    "np.float = np.float_  # Fix for older code using np.float\n",
    "np.complex = np.complex_  # Fix for older code using np.complex\n",
    "np.object = np.object_  # Fix for older code using np.object\n",
    "np.unicode = np.unicode_  # Fix for older code using np.unicode\n",
    "np.str = np.str_  # Fix for older code using np.str"
   ]
  },
  {
   "cell_type": "code",
   "execution_count": 26,
   "id": "0b34191e",
   "metadata": {},
   "outputs": [
    {
     "name": "stdout",
     "output_type": "stream",
     "text": [
      "2.0.1+cpu\n",
      "False\n"
     ]
    }
   ],
   "source": [
    "# Check wheter device use gpu or cpu\n",
    "import torch\n",
    "print(torch.__version__)\n",
    "print(torch.cuda.is_available())"
   ]
  },
  {
   "cell_type": "code",
   "execution_count": 6,
   "id": "4c1b394e",
   "metadata": {},
   "outputs": [],
   "source": [
    "from head_detector import HeadDetector\n",
    "import cv2\n",
    "import os"
   ]
  },
  {
   "cell_type": "code",
   "execution_count": null,
   "id": "2f4c4686",
   "metadata": {},
   "outputs": [
    {
     "name": "stdout",
     "output_type": "stream",
     "text": [
      "cpu\n"
     ]
    }
   ],
   "source": [
    "#initialize head detector\n",
    "detector = HeadDetector()"
   ]
  },
  {
   "cell_type": "markdown",
   "id": "a77745ed",
   "metadata": {},
   "source": [
    "if there is an error on :\n",
    "\n",
    "Could not run ‘aten::q_scale’ with arguments from the ‘CUDA’ backend\n",
    "\n",
    "try typing \"print(self._device)\" onto the detector package"
   ]
  },
  {
   "cell_type": "code",
   "execution_count": 8,
   "id": "651545bd",
   "metadata": {},
   "outputs": [],
   "source": [
    "#specify image path\n",
    "image_directory = os.path.join(\"dataset\", \"roberto baggio juventus 1994\")\n",
    "image_num = 4"
   ]
  },
  {
   "cell_type": "code",
   "execution_count": 9,
   "id": "36a3043b",
   "metadata": {},
   "outputs": [
    {
     "name": "stdout",
     "output_type": "stream",
     "text": [
      "image chosen location = dataset/roberto baggio juventus 1994/Image_4.jpg\n"
     ]
    }
   ],
   "source": [
    "image_loc = os.path.join(image_directory, f\"Image_{image_num}.jpg\")\n",
    "print(f\"image chosen location = {image_loc}\")"
   ]
  },
  {
   "cell_type": "code",
   "execution_count": 10,
   "id": "107de523",
   "metadata": {},
   "outputs": [],
   "source": [
    "predictions = detector(image_loc)"
   ]
  },
  {
   "cell_type": "code",
   "execution_count": 13,
   "id": "eb48b6a1",
   "metadata": {},
   "outputs": [
    {
     "data": {
      "text/plain": [
       "True"
      ]
     },
     "execution_count": 13,
     "metadata": {},
     "output_type": "execute_result"
    }
   ],
   "source": [
    "result_image = predictions.draw()\n",
    "cv2.imwrite(\"result.png\", result_image)"
   ]
  }
 ],
 "metadata": {
  "kernelspec": {
   "display_name": "Python 3",
   "language": "python",
   "name": "python3"
  },
  "language_info": {
   "codemirror_mode": {
    "name": "ipython",
    "version": 3
   },
   "file_extension": ".py",
   "mimetype": "text/x-python",
   "name": "python",
   "nbconvert_exporter": "python",
   "pygments_lexer": "ipython3",
   "version": "3.10.18"
  }
 },
 "nbformat": 4,
 "nbformat_minor": 5
}
