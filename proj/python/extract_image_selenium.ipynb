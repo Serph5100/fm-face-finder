{
 "cells": [
  {
   "cell_type": "markdown",
   "id": "d14fb7ce",
   "metadata": {},
   "source": [
    "### === **Extract Image with Bing Image Downloader** ==="
   ]
  },
  {
   "cell_type": "markdown",
   "id": "623dbd06",
   "metadata": {},
   "source": [
    "Package Used :\n",
    "- bing image downloader (pip install bing-image-downloader)\n"
   ]
  },
  {
   "cell_type": "code",
   "execution_count": 1,
   "id": "207ba8b6",
   "metadata": {},
   "outputs": [],
   "source": [
    "from bing_image_downloader import downloader"
   ]
  },
  {
   "cell_type": "markdown",
   "id": "3bcae8a7",
   "metadata": {},
   "source": [
    "Testing on image quality."
   ]
  },
  {
   "cell_type": "code",
   "execution_count": 2,
   "id": "ca96e572",
   "metadata": {},
   "outputs": [
    {
     "name": "stdout",
     "output_type": "stream",
     "text": [
      "[%] Downloading Images to /workspaces/fm-face-finder/proj/python/dataset/roberto baggio juventus 1994\n",
      "\n",
      "\n",
      "[!!]Indexing page: 1\n",
      "\n",
      "[%] Indexed 5 Images on Page 1.\n",
      "\n",
      "===============================================\n",
      "\n",
      "[%] Downloading Image #1 from https://i.pinimg.com/736x/9a/32/4f/9a324f20e31835e50dea2b0ae64cbce8.jpg\n",
      "[%] File Downloaded !\n",
      "\n",
      "[%] Downloading Image #2 from http://c8.alamy.com/comp/HAEJT6/roberto-baggio-italy-juventus-fc-17-july-1994-HAEJT6.jpg\n",
      "[%] File Downloaded !\n",
      "\n",
      "[%] Downloading Image #3 from https://media.gettyimages.com/id/1254206/photo/roberto-baggio-of-italy-walks-from-the-field-with-a-team-official-after-he-missed-the-decisive.jpg?s=612x612&amp;w=gi&amp;k=20&amp;c=qTuCmVfhOU1i-0Uo8CknYWOlVJz4nuYiEeT38a5xWFA=\n",
      "[!] Issue getting: https://media.gettyimages.com/id/1254206/photo/roberto-baggio-of-italy-walks-from-the-field-with-a-team-official-after-he-missed-the-decisive.jpg?s=612x612&amp;w=gi&amp;k=20&amp;c=qTuCmVfhOU1i-0Uo8CknYWOlVJz4nuYiEeT38a5xWFA=\n",
      "[!] Error:: HTTP Error 400: Bad Request\n",
      "[%] Downloading Image #3 from https://l450v.alamy.com/450v/haejt3/roberto-baggio-italy-juventus-fc-17-july-1994-haejt3.jpg\n",
      "[%] File Downloaded !\n",
      "\n",
      "[%] Downloading Image #4 from https://www.alamy.com/aggregator-api/download?url=https://c8.alamy.com/comp/HAEHWB/roberto-baggio-italy-juventus-fc-05-july-1994-HAEHWB.jpg\n",
      "[!] Issue getting: https://www.alamy.com/aggregator-api/download?url=https://c8.alamy.com/comp/HAEHWB/roberto-baggio-italy-juventus-fc-05-july-1994-HAEHWB.jpg\n",
      "[!] Error:: HTTP Error 308: Permanent Redirect\n",
      "\n",
      "\n",
      "[!!]Indexing page: 2\n",
      "\n",
      "[%] Indexed 35 Images on Page 2.\n",
      "\n",
      "===============================================\n",
      "\n",
      "[%] Downloading Image #4 from https://media.gettyimages.com/id/1232698092/photo/juventus-player-roberto-baggio-during-a-match-on-1994-in-turin-italy.jpg?s=612x612&amp;w=gi&amp;k=20&amp;c=8Gm5VF8FQz_9VGB1ke1u4c3sWn6SyOEJALrcnFVNTtg=\n",
      "[!] Issue getting: https://media.gettyimages.com/id/1232698092/photo/juventus-player-roberto-baggio-during-a-match-on-1994-in-turin-italy.jpg?s=612x612&amp;w=gi&amp;k=20&amp;c=8Gm5VF8FQz_9VGB1ke1u4c3sWn6SyOEJALrcnFVNTtg=\n",
      "[!] Error:: HTTP Error 400: Bad Request\n",
      "[%] Downloading Image #4 from https://c8.alamy.com/comp/HAEJ4F/roberto-baggio-italy-juventus-fc-05-july-1994-HAEJ4F.jpg\n",
      "[%] File Downloaded !\n",
      "\n",
      "[%] Downloading Image #5 from https://c8.alamy.com/comp/2GC3FGB/italian-soccer-star-roberto-baggio-in-action-during-the-1994-world-cup-2GC3FGB.jpg\n",
      "[%] File Downloaded !\n",
      "\n",
      "\n",
      "\n",
      "[%] Done. Downloaded 5 images.\n"
     ]
    }
   ],
   "source": [
    "downloader.download(\"roberto baggio juventus 1994\", \n",
    "                    limit=5, \n",
    "                    output_dir=\"dataset\", \n",
    "                    adult_filter_off=False,\n",
    "                    force_replace=False,\n",
    "                    timeout=60\n",
    "                    )"
   ]
  },
  {
   "cell_type": "markdown",
   "id": "67b70019",
   "metadata": {},
   "source": []
  }
 ],
 "metadata": {
  "kernelspec": {
   "display_name": "Python 3",
   "language": "python",
   "name": "python3"
  },
  "language_info": {
   "codemirror_mode": {
    "name": "ipython",
    "version": 3
   },
   "file_extension": ".py",
   "mimetype": "text/x-python",
   "name": "python",
   "nbconvert_exporter": "python",
   "pygments_lexer": "ipython3",
   "version": "3.10.18"
  }
 },
 "nbformat": 4,
 "nbformat_minor": 5
}
